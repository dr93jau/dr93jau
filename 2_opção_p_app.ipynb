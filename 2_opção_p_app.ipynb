{
  "nbformat": 4,
  "nbformat_minor": 0,
  "metadata": {
    "colab": {
      "provenance": [],
      "authorship_tag": "ABX9TyOBD6rVH6Vc9zpFnF/zkoGR",
      "include_colab_link": true
    },
    "kernelspec": {
      "name": "python3",
      "display_name": "Python 3"
    },
    "language_info": {
      "name": "python"
    }
  },
  "cells": [
    {
      "cell_type": "markdown",
      "metadata": {
        "id": "view-in-github",
        "colab_type": "text"
      },
      "source": [
        "<a href=\"https://colab.research.google.com/github/dr93jau/dr93jau/blob/main/2_op%C3%A7%C3%A3o_p_app.ipynb\" target=\"_parent\"><img src=\"https://colab.research.google.com/assets/colab-badge.svg\" alt=\"Open In Colab\"/></a>"
      ]
    },
    {
      "cell_type": "code",
      "execution_count": null,
      "metadata": {
        "id": "VkhWO6e6Sru5"
      },
      "outputs": [],
      "source": [
        "import pandas as pd\n",
        "import matplotlib.pyplot as plt\n",
        "import seaborn as sns\n",
        "\n",
        "# 1. Carregar os dados (exemplo com um arquivo CSV)\n",
        "data = pd.read_csv('seus_dados.csv')\n",
        "\n",
        "# 2. Limpar e transformar os dados (se necessário)\n",
        "# Convertendo a coluna 'dados' para numérico (ajuste o tipo se necessário)\n",
        "data['dados'] = pd.to_numeric(data['dados'], errors='coerce')\n",
        "\n",
        "# Convertendo a coluna 'reprovado/aprovado' para valores binários (0/1)\n",
        "data['reprovado/aprovado'] = data['reprovado/aprovado'].map({'Reprovado': 0, 'Aprovado': 1})\n",
        "\n",
        "# 3. Criar os gráficos\n",
        "# Gráfico de barras: Comparando a quantidade de aprovados e reprovados\n",
        "sns.countplot(x='reprovado/aprovado', data=data)\n",
        "plt.title('Aprovações e Reprovações')\n",
        "plt.show()\n",
        "\n",
        "# Gráfico de dispersão: Relacionando 'dados' com 'Muito'\n",
        "sns.scatterplot(x='dados', y='Muito', data=data)\n",
        "plt.title('Relação entre Dados e Muito')\n",
        "plt.show()\n",
        "\n",
        "# Outros gráficos possíveis:\n",
        "# - Histograma: sns.histplot(data=data['dados'])\n",
        "# - Boxplot: sns.boxplot(x='reprovado/aprovado', y='dados', data=data)\n",
        "# - Pairplot: sns.pairplot(data)  # Para visualizar relações entre todas as variáveis numéricas"
      ]
    }
  ]
}