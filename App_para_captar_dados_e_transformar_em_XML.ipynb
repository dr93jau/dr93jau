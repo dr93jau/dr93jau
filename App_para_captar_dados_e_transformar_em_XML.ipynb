{
  "nbformat": 4,
  "nbformat_minor": 0,
  "metadata": {
    "colab": {
      "provenance": [],
      "authorship_tag": "ABX9TyPaAtJ0K4Ov9ez8ARId0Ip4",
      "include_colab_link": true
    },
    "kernelspec": {
      "name": "python3",
      "display_name": "Python 3"
    },
    "language_info": {
      "name": "python"
    }
  },
  "cells": [
    {
      "cell_type": "markdown",
      "metadata": {
        "id": "view-in-github",
        "colab_type": "text"
      },
      "source": [
        "<a href=\"https://colab.research.google.com/github/dr93jau/dr93jau/blob/main/App_para_captar_dados_e_transformar_em_XML.ipynb\" target=\"_parent\"><img src=\"https://colab.research.google.com/assets/colab-badge.svg\" alt=\"Open In Colab\"/></a>"
      ]
    },
    {
      "cell_type": "code",
      "source": [
        "import tkinter as tk\n",
        "from tkinter import messagebox\n",
        "import pandas as pd\n",
        "\n",
        "# Lista para armazenar os dados\n",
        "data = []\n",
        "\n",
        "# Função para adicionar dados na tabela\n",
        "def adicionar_dados():\n",
        "    codigo = entry_codigo.get()\n",
        "    lote = entry_lote.get()\n",
        "    descricao = entry_descricao.get()\n",
        "    data_registro = entry_data.get()\n",
        "    status = status_var.get()\n",
        "\n",
        "    if not (codigo and lote and descricao and data_registro and status):\n",
        "        messagebox.showwarning(\"Campos obrigatórios\", \"Todos os campos devem ser preenchidos!\")\n",
        "        return\n",
        "\n",
        "    # Adiciona os dados à lista\n",
        "    data.append({\"Código\": codigo, \"Lote\": lote, \"Descrição\": descricao, \"Data\": data_registro, \"Status\": status})\n",
        "    messagebox.showinfo(\"Sucesso\", \"Dados adicionados com sucesso!\")\n",
        "    limpar_campos()\n",
        "\n",
        "def salvar_csv():\n",
        "    if not data:\n",
        "        messagebox.showwarning(\"Sem dados\", \"Não há dados para salvar.\")\n",
        "        return\n",
        "\n",
        "    df = pd.DataFrame(data)\n",
        "    df.to_csv(\"dados_registro.csv\", index=False)\n",
        "    messagebox.showinfo(\"Sucesso\", \"Dados salvos em 'dados_registro.csv'!\")\n",
        "\n",
        "def limpar_campos():\n",
        "    entry_codigo.delete(0, tk.END)\n",
        "    entry_lote.delete(0, tk.END)\n",
        "    entry_descricao.delete(0, tk.END)\n",
        "    entry_data.delete(0, tk.END)\n",
        "    status_var.set(None)\n",
        "\n",
        "# Configuração da interface gráfica\n",
        "root = tk.Tk()\n",
        "root.title(\"Registro de Dados\")\n",
        "\n",
        "# Labels e campos de entrada\n",
        "tk.Label(root, text=\"Código\").grid(row=0, column=0, padx=5, pady=5)\n",
        "entry_codigo = tk.Entry(root)\n",
        "entry_codigo.grid(row=0, column=1, padx=5, pady=5)\n",
        "\n",
        "tk.Label(root, text=\"Lote\").grid(row=1, column=0, padx=5, pady=5)\n",
        "entry_lote = tk.Entry(root)\n",
        "entry_lote.grid(row=1, column=1, padx=5, pady=5)\n",
        "\n",
        "tk.Label(root, text=\"Descrição\").grid(row=2, column=0, padx=5, pady=5)\n",
        "entry_descricao = tk.Entry(root)\n",
        "entry_descricao.grid(row=2, column=1, padx=5, pady=5)\n",
        "\n",
        "tk.Label(root, text=\"Data (dd/mm/aaaa)\").grid(row=3, column=0, padx=5, pady=5)\n",
        "entry_data = tk.Entry(root)\n",
        "entry_data.grid(row=3, column=1, padx=5, pady=5)\n",
        "\n",
        "# Botões de rádio para status\n",
        "tk.Label(root, text=\"Status\").grid(row=4, column=0, padx=5, pady=5)\n",
        "status_var = tk.StringVar()\n",
        "tk.Radiobutton(root, text=\"Aprovado\", variable=status_var, value=\"Aprovado\").grid(row=4, column=1, padx=5, pady=5, sticky=\"w\")\n",
        "tk.Radiobutton(root, text=\"Reprovado\", variable=status_var, value=\"Reprovado\").grid(row=5, column=1, padx=5, pady=5, sticky=\"w\")\n",
        "\n",
        "# Botões de ação\n",
        "btn_adicionar = tk.Button(root, text=\"Adicionar\", command=adicionar_dados)\n",
        "btn_adicionar.grid(row=6, column=0, padx=5, pady=10)\n",
        "\n",
        "btn_salvar = tk.Button(root, text=\"Salvar CSV\", command=salvar_csv)\n",
        "btn_salvar.grid(row=6, column=1, padx=5, pady=10)\n",
        "\n",
        "# Inicia o loop da interface gráfica\n",
        "root.mainloop()\n"
      ],
      "metadata": {
        "id": "QxO3sm-XPbSM"
      },
      "execution_count": null,
      "outputs": []
    }
  ]
}